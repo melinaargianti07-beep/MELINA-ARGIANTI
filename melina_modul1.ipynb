{
  "nbformat": 4,
  "nbformat_minor": 0,
  "metadata": {
    "colab": {
      "provenance": [],
      "authorship_tag": "ABX9TyMrFBsA8cBNfWPKdtL3qXqP",
      "include_colab_link": true
    },
    "kernelspec": {
      "name": "python3",
      "display_name": "Python 3"
    },
    "language_info": {
      "name": "python"
    }
  },
  "cells": [
    {
      "cell_type": "markdown",
      "metadata": {
        "id": "view-in-github",
        "colab_type": "text"
      },
      "source": [
        "<a href=\"https://colab.research.google.com/github/melinaargianti07-beep/MELINA-ARGIANTI/blob/main/melina_modul1.ipynb\" target=\"_parent\"><img src=\"https://colab.research.google.com/assets/colab-badge.svg\" alt=\"Open In Colab\"/></a>"
      ]
    },
    {
      "cell_type": "code",
      "execution_count": 5,
      "metadata": {
        "colab": {
          "base_uri": "https://localhost:8080/"
        },
        "id": "0UvTAyy3kHMs",
        "outputId": "a6689dba-4e2b-4e99-9014-8df787d4a82a"
      },
      "outputs": [
        {
          "output_type": "stream",
          "name": "stdout",
          "text": [
            "kecepatan mobil: 22.22m/s\n",
            "kecepatan motor: 30.00m/s\n",
            "kecepatan sepeda: 20.00m/s\n",
            "kendaraan dengan kecepatan tertinggi adalah motor dengan 30.0m/s\n"
          ]
        }
      ],
      "source": [
        "#Kasus 1\n",
        "#Masukan data jarak (meter) dan waktu (detik)\n",
        "jarak_mobil = 2000\n",
        "waktu_mobil= 90\n",
        "\n",
        "jarak_motor = 1500\n",
        "waktu_motor = 50\n",
        "\n",
        "jarak_sepeda = 800\n",
        "waktu_sepeda = 40\n",
        "\n",
        "#Hitung kecepatan (m/s)\n",
        "#Hitung kecepatan (m/s)\n",
        "kecepatan_mobil = jarak_mobil/waktu_mobil\n",
        "kecepatan_motor = jarak_motor/waktu_motor\n",
        "kecepatan_sepeda = jarak_sepeda/waktu_sepeda\n",
        "\n",
        "#Tampilkan hasil\n",
        "print(f\"kecepatan mobil: {kecepatan_mobil:.2f}m/s\")\n",
        "print(f\"kecepatan motor: {kecepatan_motor:.2f}m/s\")\n",
        "print(f\"kecepatan sepeda: {kecepatan_sepeda:.2f}m/s\")\n",
        "\n",
        "#Tentukan kendaraan denngan kecepatan tertinggi\n",
        "kecepatan_tertinggi = max(kecepatan_mobil, kecepatan_motor, kecepatan_sepeda)\n",
        "\n",
        "if kecepatan_tertinggi == kecepatan_mobil : kendaraan_tercepat = \"mobil\"\n",
        "elif kecepatan_tertinggi == kecepatan_motor : kendaraan_tercepat = \"motor\"\n",
        "else:\n",
        "  kendaraan_tercepat=\"sepeda\"\n",
        "print(f\"kendaraan dengan kecepatan tertinggi adalah {kendaraan_tercepat} dengan {kecepatan_tertinggi}m/s\")\n"
      ]
    },
    {
      "cell_type": "code",
      "source": [
        "#Kasus 2\n",
        "#Masukan data jarak (meter) dan waktu (detik)\n",
        "jarak_pelari1 = 400\n",
        "waktu_pelari1 = 50\n",
        "\n",
        "jarak_pelari2 = 800\n",
        "waktu_pelari2 = 120\n",
        "\n",
        "jarak_pelari3 = 100\n",
        "waktu_pelari3 = 11\n",
        "\n",
        "\n",
        "#Hitung kecepatan (m/s)\n",
        "kecepatan_pelari1 = jarak_pelari1/waktu_pelari1\n",
        "kecepatan_pelari2 = jarak_pelari2/waktu_pelari2\n",
        "kecepatan_pelari3 = jarak_pelari3/waktu_pelari3\n",
        "\n",
        "#Tampilkan hasil\n",
        "print(f\"kecepatan pelari1: {kecepatan_pelari1:.2f}m/s\")\n",
        "print(f\"kecepatan pelari2: {kecepatan_pelari2:.2f}m/s\")\n",
        "print(f\"kecepatan pelari3: {kecepatan_pelari3:.2f}m/s\")\n",
        "\n",
        "#Tentukan pelari denngan kecepatan tertinggi\n",
        "kecepatan_tertinggi = max(kecepatan_pelari3, kecepatan_pelari2, kecepatan_pelari3)\n",
        "\n",
        "if kecepatan_tertinggi == kecepatan_pelari1 : pelari_tercepat = \"pelari1\"\n",
        "elif kecepatan_tertinggi == kecepatan_pelari2 : pelari_tercepat = \"pelari2\"\n",
        "else:\n",
        "  pelari_tercepat=\"pelari3\"\n",
        "print(f\"pelari dengan kecepatan tertinggi adalah {pelari_tercepat} dengan {kecepatan_tertinggi}m/s\")\n"
      ],
      "metadata": {
        "colab": {
          "base_uri": "https://localhost:8080/"
        },
        "id": "rpvlzJz-olPq",
        "outputId": "eda78a3a-14a5-4769-8b21-0d77d592b745"
      },
      "execution_count": 7,
      "outputs": [
        {
          "output_type": "stream",
          "name": "stdout",
          "text": [
            "kecepatan pelari1: 8.00m/s\n",
            "kecepatan pelari2: 6.67m/s\n",
            "kecepatan pelari3: 9.09m/s\n",
            "pelari dengan kecepatan tertinggi adalah pelari3 dengan 9.090909090909092m/s\n"
          ]
        }
      ]
    },
    {
      "cell_type": "code",
      "source": [
        "#kasus 3\n",
        "#Masukan data jarak (meter) dan waktu (detik)\n",
        "jarak_kereta = 5000\n",
        "waktu_kereta  = 180\n",
        "\n",
        "jarak_bus = 3000\n",
        "waktu_bus = 120\n",
        "\n",
        "jarak_truk = 2500\n",
        "waktu_truk = 120\n",
        "\n",
        "#Hitung kecepatan (m/s)\n",
        "kecepatan_kereta = jarak_kereta/waktu_kereta\n",
        "kecepatan_bus = jarak_bus/waktu_bus\n",
        "kecepatan_truk = jarak_truk/waktu_truk\n",
        "\n",
        "#Tampilkan hasil\n",
        "print(f\"kecepatan kereta: {kecepatan_kereta:.2f}m/s\")\n",
        "print(f\"kecepatan bus: {kecepatan_bus:.2f}m/s\")\n",
        "print(f\"kecepatan truk {kecepatan_truk:.2f}m/s\")\n",
        "\n",
        "#Tentukan kendaraan denngan kecepatan tertinggi\n",
        "kecepatan_tertinggi = max(kecepatan_kereta, kecepatan_bus, kecepatan_truk)\n",
        "\n",
        "if kecepatan_tertinggi == kecepatan_kereta : kendaraan_tercepat = \"kereta\"\n",
        "elif kecepatan_tertinggi == kecepatan_bus : kendaraan_tercepat = \"bus\"\n",
        "else:\n",
        "  kendaraan_tercepat=\"truk\"\n",
        "print(f\"kendaraan dengan kecepatan tertinggi adalah {kendaraan_tercepat} dengan {kecepatan_tertinggi}m/s\")\n"
      ],
      "metadata": {
        "colab": {
          "base_uri": "https://localhost:8080/"
        },
        "id": "yLGfHdB-quTf",
        "outputId": "b8d382d8-6621-48e9-bcd8-37212534e5fa"
      },
      "execution_count": 9,
      "outputs": [
        {
          "output_type": "stream",
          "name": "stdout",
          "text": [
            "kecepatan kereta: 27.78m/s\n",
            "kecepatan bus: 25.00m/s\n",
            "kecepatan truk 20.83m/s\n",
            "kendaraan dengan kecepatan tertinggi adalah kereta dengan 27.77777777777778m/s\n"
          ]
        }
      ]
    },
    {
      "cell_type": "code",
      "source": [
        "#kasus 4\n",
        "#Masukan data jarak (meter) dan waktu (detik)\n",
        "jarak_drone = 1200\n",
        "waktu_drone = 60\n",
        "\n",
        "jarak_kapal = 5000\n",
        "waktu_kapal = 300\n",
        "\n",
        "jarak_pemainsepakbola = 60\n",
        "waktu_pemainsepakbola = 7\n",
        "\n",
        "#Hitung kecepatan (m/s)\n",
        "kecepatan_drone = jarak_drone/waktu_drone\n",
        "kecepatan_kapal= jarak_kapal/waktu_kapal\n",
        "kecepatan_pemainsepakbola= jarak_pemainsepakbola/waktu_pemainsepakbola\n",
        "\n",
        "#Tampilkan hasil\n",
        "print(f\"kecepatan drone: {kecepatan_drone:.2f}m/s\")\n",
        "print(f\"kecepatan kapal: {kecepatan_kapal:.2f}m/s\")\n",
        "print(f\"kecepatan pemainsepakbola {kecepatan_pemainsepakbola:.2f}m/s\")\n",
        "\n",
        "#Tentukan kecepatan tertinggi\n",
        "kecepatan_tertinggi = max(kecepatan_drone, kecepatan_kapal, kecepatan_pemainsepakbola)\n",
        "\n",
        "if kecepatan_tertinggi == kecepatan_drone : kendaraan_tercepat = \"drone\"\n",
        "elif kecepatan_tertinggi == kecepatan_kapal : kendaraan_tercepat = \"kapal\"\n",
        "else:\n",
        "  pelari_tercepat=\"pemainsepakbola\"\n",
        "print(f\"kendaraan dengan kecepatan tertinggi adalah {kendaraan_tercepat} dengan {kecepatan_tertinggi}m/s\")"
      ],
      "metadata": {
        "colab": {
          "base_uri": "https://localhost:8080/"
        },
        "id": "frNVsnFBrzGp",
        "outputId": "0025c8ee-6f84-45dd-e6c6-d597913fd0e8"
      },
      "execution_count": 10,
      "outputs": [
        {
          "output_type": "stream",
          "name": "stdout",
          "text": [
            "kecepatan drone: 20.00m/s\n",
            "kecepatan kapal: 16.67m/s\n",
            "kecepatan pemainsepakbola 8.57m/s\n",
            "kendaraan dengan kecepatan tertinggi adalah drone dengan 20.0m/s\n"
          ]
        }
      ]
    }
  ]
}