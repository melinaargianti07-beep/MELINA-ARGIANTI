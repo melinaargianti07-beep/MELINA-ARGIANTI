{
  "nbformat": 4,
  "nbformat_minor": 0,
  "metadata": {
    "colab": {
      "provenance": [],
      "authorship_tag": "ABX9TyMb3Qp9EBZqhN7oWyTGKBGn",
      "include_colab_link": true
    },
    "kernelspec": {
      "name": "python3",
      "display_name": "Python 3"
    },
    "language_info": {
      "name": "python"
    }
  },
  "cells": [
    {
      "cell_type": "markdown",
      "metadata": {
        "id": "view-in-github",
        "colab_type": "text"
      },
      "source": [
        "<a href=\"https://colab.research.google.com/github/melinaargianti07-beep/MELINA-ARGIANTI/blob/main/Modul_3_melina.ipynb\" target=\"_parent\"><img src=\"https://colab.research.google.com/assets/colab-badge.svg\" alt=\"Open In Colab\"/></a>"
      ]
    },
    {
      "cell_type": "code",
      "execution_count": 22,
      "metadata": {
        "colab": {
          "base_uri": "https://localhost:8080/"
        },
        "id": "jB5Nb868bkTs",
        "outputId": "9b2c4065-4948-4dbd-f8ef-1c3f3dc48928"
      },
      "outputs": [
        {
          "output_type": "stream",
          "name": "stdout",
          "text": [
            "10132500\n",
            "Masukkan pilihan (1/2/3/4): 2\n",
            "Pilih nilai konstanta gas ideal R:\n",
            "1. 8.314 J/(mol·K) (satuan SI)\n",
            "2. 0.08206 L·atm/(mol·K) (untuk tekanan atm dan volume liter)\n",
            "3. 1.987 cal/(mol·K) (kalori)\n",
            "Masukkan pilihan (1/2/3): 1\n",
            "Masukkan tekanan (sesuai satuan R): 1\n",
            "Masukkan jumlah mol (mol): 0.5\n",
            "Masukkan suhu (K): 300\n",
            "Volume (V) = 1247.10000\n",
            "Program Hitung Variabel Persamaan Gas Ideal PV = nRT\n",
            "Pilih variabel yang ingin dihitung:\n",
            "1. Tekanan (P)\n",
            "2. Volume (V)\n",
            "3. Jumlah mol (n)\n",
            "4. Suhu (T)\n"
          ]
        }
      ],
      "source": [
        "def konversi_tekanan(nilai, satuan):\n",
        "  if satuan == \"atm\":\n",
        "    return nilai * 101325\n",
        "  elif satuan == \"Pa\":\n",
        "    return nilai\n",
        "  else:\n",
        "    return None\n",
        "\n",
        "print(konversi_tekanan(100, \"atm\")) # Output: 101325\n",
        "def pilih_konstanta_R():\n",
        "  print(\"Pilih nilai konstanta gas ideal R:\")\n",
        "  print(\"1. 8.314 J/(mol·K) (satuan SI)\")\n",
        "  print(\"2. 0.08206 L·atm/(mol·K) (untuk tekanan atm dan volume liter)\")\n",
        "  print(\"3. 1.987 cal/(mol·K) (kalori)\")\n",
        "  pilihan = input(\"Masukkan pilihan (1/2/3): \")\n",
        "\n",
        "  if pilihan == \"1\":\n",
        "    return 8.314\n",
        "  elif pilihan == \"2\":\n",
        "    return 0.08206\n",
        "  elif pilihan == \"3\":\n",
        "    return 1.987\n",
        "  else :\n",
        "    print(\"Pilihan tidak valid, menggunakan nilai default 8.314\")\n",
        "    return 8.314\n",
        "\n",
        "def main():\n",
        "  print(\"Program Hitung Variabel Persamaan Gas Ideal PV = nRT\")\n",
        "  print(\"Pilih variabel yang ingin dihitung:\")\n",
        "  print(\"1. Tekanan (P)\")\n",
        "  print(\"2. Volume (V)\")\n",
        "  print(\"3. Jumlah mol (n)\")\n",
        "  print(\"4. Suhu (T)\")\n",
        "\n",
        "var_pilihan = input(\"Masukkan pilihan (1/2/3/4): \")\n",
        "R = pilih_konstanta_R()\n",
        "try:\n",
        "  if var_pilihan == \"1\": # Hitung P\n",
        "    V = float(input(\"Masukkan volume (sesuai satuan R): \"))\n",
        "    n = float(input(\"Masukkan jumlah mol (mol): \"))\n",
        "    T = float(input(\"Masukkan suhu (K): \"))\n",
        "    P = (n * R * T) / V\n",
        "    print(f\"Tekanan (P) = {P:.2f}\")\n",
        "\n",
        "  elif var_pilihan == \"2\": # Hitung V\n",
        "    P = float(input(\"Masukkan tekanan (sesuai satuan R): \"))\n",
        "    n = float(input(\"Masukkan jumlah mol (mol): \"))\n",
        "    T = float(input(\"Masukkan suhu (K): \"))\n",
        "    V = (n * R * T) / P\n",
        "    print(f\"Volume (V) = {V:.5f}\")\n",
        "\n",
        "  elif var_pilihan == \"3\": # Hitung n\n",
        "    P = float(input(\"Masukkan tekanan (sesuai satuan R): \"))\n",
        "    V = float(input(\"Masukkan volume (sesuai satuan R): \"))\n",
        "    T = float(input(\"Masukkan suhu (K): \"))\n",
        "    n = (P * V) / (R * T)\n",
        "    print(f\"Jumlah mol (n) = {n:.5f}\")\n",
        "\n",
        "  elif var_pilihan == \"4\": # Hitung T\n",
        "    P = float(input(\"Masukkan tekanan (sesuai satuan R): \"))\n",
        "    V = float(input(\"Masukkan volume (sesuai satuan R): \"))\n",
        "    n = float(input(\"Masukkan jumlah mol (mol): \"))\n",
        "    T = (P * V) / (n * R)\n",
        "    print(f\"Suhu (T) = {T:.2f} K\")\n",
        "\n",
        "  else:\n",
        "    print(\"Pilihan variabel tidak valid.\")\n",
        "except ZeroDivisionError:\n",
        "    print(\"Error: Pembagian dengan nol tidak diperbolehkan.\")\n",
        "except ValueError:\n",
        "    print(\"Error: Input harus berupa angka.\")\n",
        "\n",
        "if __name__ == \"__main__\":\n",
        "  main()"
      ]
    }
  ]
}