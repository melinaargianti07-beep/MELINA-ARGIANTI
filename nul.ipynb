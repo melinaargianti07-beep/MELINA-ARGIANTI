{
  "nbformat": 4,
  "nbformat_minor": 0,
  "metadata": {
    "colab": {
      "provenance": [],
      "authorship_tag": "ABX9TyNIEc9hqLT69vTUtybjAkTm",
      "include_colab_link": true
    },
    "kernelspec": {
      "name": "python3",
      "display_name": "Python 3"
    },
    "language_info": {
      "name": "python"
    }
  },
  "cells": [
    {
      "cell_type": "markdown",
      "metadata": {
        "id": "view-in-github",
        "colab_type": "text"
      },
      "source": [
        "<a href=\"https://colab.research.google.com/github/melinaargianti07-beep/MELINA-ARGIANTI/blob/main/nul.ipynb\" target=\"_parent\"><img src=\"https://colab.research.google.com/assets/colab-badge.svg\" alt=\"Open In Colab\"/></a>"
      ]
    },
    {
      "cell_type": "code",
      "execution_count": 1,
      "metadata": {
        "colab": {
          "base_uri": "https://localhost:8080/"
        },
        "id": "jueYb3dimX8j",
        "outputId": "b7c6c703-cd9d-4d51-d133-cca5ebc4bd31"
      },
      "outputs": [
        {
          "output_type": "stream",
          "name": "stdout",
          "text": [
            "kecepatan mobil A: 22.22 m/s\n",
            "kecepatan motor B: 30.00 m/s\n",
            "kecepatan sepeda C: 20.00 m/s\n",
            "kendaraan dengan kecepatan tertinggi adalah: Motor Bdengan kecepatan30.00 m/s\n"
          ]
        }
      ],
      "source": [
        "#kasus 1\n",
        "#data jarak (neter) dan waktu (detik)\n",
        "jarak_mobil = 2000\n",
        "waktu_mobil = 90\n",
        "\n",
        "jarak_motor = 1500\n",
        "waktu_motor = 50\n",
        "\n",
        "jarak_sepeda = 800\n",
        "waktu_sepeda = 40\n",
        "\n",
        "#hitung kecepatan (m/s)\n",
        "kecepatan_mobil = jarak_mobil / waktu_mobil\n",
        "kecepatan_motor = jarak_motor / waktu_motor\n",
        "kecepatan_sepeda = jarak_sepeda / waktu_sepeda\n",
        "\n",
        "#tampilkan kecepatan\n",
        "print(f\"kecepatan mobil A: {kecepatan_mobil:.2f} m/s\")\n",
        "print(f\"kecepatan motor B: {kecepatan_motor:.2f} m/s\")\n",
        "print(f\"kecepatan sepeda C: {kecepatan_sepeda:.2f} m/s\")\n",
        "\n",
        "#tentukan kendaraan dengan kecepatan tertinggi\n",
        "kecepatan_tertinggi = max(kecepatan_mobil, kecepatan_motor, kecepatan_sepeda)\n",
        "\n",
        "if kecepatan_tertinggi == kecepatan_mobil: kendaraan_tercepat = \"Mobil A\"\n",
        "elif kecepatan_tertinggi == kecepatan_motor: kendaraan_tercepat = \"Motor B\"\n",
        "else:\n",
        "     kendaraan_tercepat = \"Sepeda C\"\n",
        "print(f\"kendaraan dengan kecepatan tertinggi adalah: {kendaraan_tercepat}dengan kecepatan{kecepatan_tertinggi:.2f} m/s\")"
      ]
    }
  ]
}